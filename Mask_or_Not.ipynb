{
  "nbformat": 4,
  "nbformat_minor": 0,
  "metadata": {
    "colab": {
      "name": "Mask_or_Not.ipynb",
      "provenance": [],
      "collapsed_sections": []
    },
    "kernelspec": {
      "name": "python3",
      "display_name": "Python 3"
    },
    "language_info": {
      "name": "python"
    },
    "accelerator": "GPU"
  },
  "cells": [
    {
      "cell_type": "code",
      "execution_count": null,
      "metadata": {
        "id": "x3Oo-a59rhDN"
      },
      "outputs": [],
      "source": [
        "import numpy as np\n",
        "import pandas as pd\n",
        "from keras.models import Sequential\n",
        "from keras.layers import Dense,Convolution2D,MaxPooling2D,Flatten"
      ]
    },
    {
      "cell_type": "code",
      "source": [
        "from google.colab import drive\n",
        "drive.mount('/content/drive')"
      ],
      "metadata": {
        "colab": {
          "base_uri": "https://localhost:8080/"
        },
        "id": "miPttlJWI-MB",
        "outputId": "acfbd2fb-4ea4-4e64-ea70-424449a2d775"
      },
      "execution_count": null,
      "outputs": [
        {
          "output_type": "stream",
          "name": "stdout",
          "text": [
            "Mounted at /content/drive\n"
          ]
        }
      ]
    },
    {
      "cell_type": "code",
      "source": [
        "model = Sequential()"
      ],
      "metadata": {
        "id": "tTo6kXIDsMaE"
      },
      "execution_count": null,
      "outputs": []
    },
    {
      "cell_type": "code",
      "source": [
        "from keras.preprocessing.image import ImageDataGenerator\n",
        "\n",
        "train_datagen = ImageDataGenerator(rescale = 1/255,shear_range=0.2,zoom_range=0.2,horizontal_flip=True)\n",
        "test_datagen = ImageDataGenerator(rescale=1/255)\n"
      ],
      "metadata": {
        "id": "pvbV0KelsMn_"
      },
      "execution_count": null,
      "outputs": []
    },
    {
      "cell_type": "code",
      "source": [
        "train_set=train_datagen.flow_from_directory('/content/drive/MyDrive/Deep Learning Model/Mask Detection/train',target_size=(64, 64), class_mode='binary', batch_size=32)\n",
        "test_set=test_datagen.flow_from_directory('/content/drive/MyDrive/Deep Learning Model/Mask Detection/test',target_size=(64, 64), class_mode='binary', batch_size=32)"
      ],
      "metadata": {
        "colab": {
          "base_uri": "https://localhost:8080/"
        },
        "id": "L8Vic4i3unZH",
        "outputId": "b6545f39-ab8d-430e-ff0d-f023e03dd671"
      },
      "execution_count": null,
      "outputs": [
        {
          "output_type": "stream",
          "name": "stdout",
          "text": [
            "Found 1404 images belonging to 2 classes.\n",
            "Found 14 images belonging to 2 classes.\n"
          ]
        }
      ]
    },
    {
      "cell_type": "code",
      "source": [
        "from keras.preprocessing import image "
      ],
      "metadata": {
        "id": "nOo2e15dyMXu"
      },
      "execution_count": null,
      "outputs": []
    },
    {
      "cell_type": "code",
      "source": [
        "model.add(Convolution2D(32,3,3,input_shape=(64,64,3),activation='relu'))\n",
        "model.add(MaxPooling2D(pool_size=(2, 2)))\n",
        "model.add(Convolution2D(32,3,3,input_shape=(64,64,3),activation='relu'))\n",
        "model.add(MaxPooling2D(pool_size=(2, 2)))\n",
        "model.add(Flatten())\n",
        "model.add(Dense(128,activation='relu'))\n",
        "model.add(Dense(128,activation='relu'))\n",
        "model.add(Dense(1,activation='sigmoid'))"
      ],
      "metadata": {
        "id": "ZROrv2DZw_EF"
      },
      "execution_count": null,
      "outputs": []
    },
    {
      "cell_type": "code",
      "source": [
        "from keras import metrics\n",
        "model.compile(loss='binary_crossentropy',optimizer='adam',metrics='binary_accuracy')\n",
        "model.fit(train_set,steps_per_epoch=2,epochs=5,validation_data=test_set,verbose=1)"
      ],
      "metadata": {
        "colab": {
          "base_uri": "https://localhost:8080/"
        },
        "id": "L8D7jgVX0gpL",
        "outputId": "8dce8e27-a6f5-468f-a001-23d587bc97b3"
      },
      "execution_count": null,
      "outputs": [
        {
          "output_type": "stream",
          "name": "stdout",
          "text": [
            "Epoch 1/5\n",
            "2/2 [==============================] - 18s 6s/step - loss: 0.6813 - binary_accuracy: 0.5000 - val_loss: 0.7023 - val_binary_accuracy: 0.5000\n",
            "Epoch 2/5\n",
            "2/2 [==============================] - 1s 933ms/step - loss: 0.5139 - binary_accuracy: 1.0000 - val_loss: 0.7515 - val_binary_accuracy: 0.5000\n",
            "Epoch 3/5\n",
            "2/2 [==============================] - 2s 963ms/step - loss: 0.3816 - binary_accuracy: 0.9688 - val_loss: 0.8813 - val_binary_accuracy: 0.5000\n",
            "Epoch 4/5\n",
            "2/2 [==============================] - 1s 916ms/step - loss: 0.2129 - binary_accuracy: 1.0000 - val_loss: 1.1610 - val_binary_accuracy: 0.5000\n",
            "Epoch 5/5\n",
            "2/2 [==============================] - 1s 922ms/step - loss: 0.0939 - binary_accuracy: 1.0000 - val_loss: 1.6214 - val_binary_accuracy: 0.5000\n"
          ]
        },
        {
          "output_type": "execute_result",
          "data": {
            "text/plain": [
              "<keras.callbacks.History at 0x7f9f1e109e10>"
            ]
          },
          "metadata": {},
          "execution_count": 8
        }
      ]
    },
    {
      "cell_type": "code",
      "source": [
        "def predict_image(imagepath,classifier):\n",
        "  pred = image.load_img(imagepath,target_size=(64,64))\n",
        "  pred = image.img_to_array(pred)\n",
        "  pred = pred/255\n",
        "  pred = np.expand_dims(pred,axis=0)\n",
        "  result = model.predict(pred)\n",
        "\n",
        "  if result[0][0] >= 0.5:\n",
        "    prediction = 'mask'\n",
        "    probability = result[0][0]\n",
        "    print (\"probability = \" + str(probability))\n",
        "\n",
        "  else:\n",
        "    prediction = 'nope'\n",
        "    probability =1- result[0][0]\n",
        "    print (\"probability = \" + str(probability))\n",
        "  print('prediction = '+prediction)\n",
        "  "
      ],
      "metadata": {
        "id": "1eaic4-Q4WLe"
      },
      "execution_count": null,
      "outputs": []
    },
    {
      "cell_type": "code",
      "source": [
        "from keras.preprocessing import image\n",
        "predict_image('/content/drive/MyDrive/Deep Learning Model/Mask Detection/test/with_mask/images (3).jpg',model)"
      ],
      "metadata": {
        "colab": {
          "base_uri": "https://localhost:8080/"
        },
        "id": "FWsKCtwn62ac",
        "outputId": "e95cd133-ebd2-49c1-8efd-7daf07613eae"
      },
      "execution_count": null,
      "outputs": [
        {
          "output_type": "stream",
          "name": "stdout",
          "text": [
            "probability = 0.94917774\n",
            "prediction = mask\n"
          ]
        }
      ]
    }
  ]
}